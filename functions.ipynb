{
 "cells": [
  {
   "cell_type": "code",
   "execution_count": 4,
   "metadata": {},
   "outputs": [],
   "source": [
    "#Function\n",
    "def display_invoice(username,amount,due_date):\n",
    "    print(f\"Hello{username}\")\n",
    "    print(f\"your bill of ${amount:2f}is due: {due_date}\")\n",
    "    display_invoice(\"JoeSchmo\",100.01,\"01/02\")\n"
   ]
  },
  {
   "cell_type": "code",
   "execution_count": 9,
   "metadata": {},
   "outputs": [
    {
     "name": "stdout",
     "output_type": "stream",
     "text": [
      "3\n",
      "-1\n",
      "2\n"
     ]
    }
   ],
   "source": [
    "#return = statment used to end a function\n",
    "# and send a result back to the caller\n",
    "def add(x,y):\n",
    "    z = x+y\n",
    "    return z\n",
    "    print(z)\n",
    "def subtract(x,y):\n",
    "    z = x-y\n",
    "    return z\n",
    "    print(z)\n",
    "\n",
    "def multiply(x,y):\n",
    "    z = x*y\n",
    "    return z\n",
    "    print(z)\n",
    "\n",
    "print(add(1,2))\n",
    "\n",
    "print(subtract(1,2))\n",
    "\n",
    "print(multiply(1,2))\n",
    "\n",
    "\n",
    "\n"
   ]
  },
  {
   "cell_type": "code",
   "execution_count": 17,
   "metadata": {},
   "outputs": [],
   "source": [
    "def create_name(first,last):\n",
    "    first = first.capitalize()\n",
    "    last = last .capitalaze()\n",
    "    return first + \"  \" + last\n",
    "    full_name = create_name (\"fathel\",\"jan\")\n",
    "    print(full_name)"
   ]
  }
 ],
 "metadata": {
  "kernelspec": {
   "display_name": "base",
   "language": "python",
   "name": "python3"
  },
  "language_info": {
   "codemirror_mode": {
    "name": "ipython",
    "version": 3
   },
   "file_extension": ".py",
   "mimetype": "text/x-python",
   "name": "python",
   "nbconvert_exporter": "python",
   "pygments_lexer": "ipython3",
   "version": "3.9.12"
  },
  "orig_nbformat": 4,
  "vscode": {
   "interpreter": {
    "hash": "9bbb6fc2d869a8aa0c1e04fa0639318c175b6b8cba821b395fd1e7cfeb8b5633"
   }
  }
 },
 "nbformat": 4,
 "nbformat_minor": 2
}
